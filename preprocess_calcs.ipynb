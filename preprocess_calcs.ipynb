{
 "cells": [
  {
   "cell_type": "code",
   "execution_count": 24,
   "id": "d573e181-7c35-44b6-a7c5-8884c9cdcf0d",
   "metadata": {},
   "outputs": [],
   "source": [
    "import pickle\n",
    "import numpy as np"
   ]
  },
  {
   "cell_type": "code",
   "execution_count": 25,
   "id": "491ec5a3-1a5e-4e95-b69c-b3685aba3db1",
   "metadata": {},
   "outputs": [
    {
     "name": "stdout",
     "output_type": "stream",
     "text": [
      "2568\n",
      "2662\n",
      "4333\n"
     ]
    }
   ],
   "source": [
    "with open('data/zeke_input_vocab.pkl', 'rb') as file:\n",
    "    zeke_input_vocab = pickle.load(file)\n",
    "    \n",
    "with open('data/zeke_output_vocab.pkl', 'rb') as file:\n",
    "    zeke_output_vocab = pickle.load(file)\n",
    "\n",
    "total_vocab = zeke_input_vocab + zeke_output_vocab\n",
    "total_vocab = list(set(total_vocab))\n",
    "\n",
    "print(len(zeke_input_vocab))\n",
    "print(len(zeke_output_vocab))\n",
    "print(len(total_vocab))"
   ]
  },
  {
   "cell_type": "code",
   "execution_count": 26,
   "id": "700a53d7-3585-43e7-adc4-4b505772dec4",
   "metadata": {},
   "outputs": [],
   "source": [
    "embeddings_index = {}\n",
    "with open(\"glove.6B/glove.6B.100d.txt\", encoding='utf8') as f:\n",
    "    glove_vocab = []\n",
    "    for line in f:\n",
    "        values = line.split()\n",
    "        word = values[0]\n",
    "        glove_vocab += [word]\n",
    "        coefs = np.asarray(values[1:], dtype='float32')\n",
    "        embeddings_index[word] = coefs"
   ]
  },
  {
   "cell_type": "code",
   "execution_count": 27,
   "id": "82482177-d6c3-4929-b830-1ffb6cda33c7",
   "metadata": {},
   "outputs": [
    {
     "name": "stdout",
     "output_type": "stream",
     "text": [
      "401880\n"
     ]
    }
   ],
   "source": [
    "total_total_vocab = list(set(total_vocab + glove_vocab))\n",
    "print(len(total_total_vocab))"
   ]
  },
  {
   "cell_type": "code",
   "execution_count": 28,
   "id": "8b11f407-e963-4964-b347-62a80eaa438c",
   "metadata": {},
   "outputs": [],
   "source": [
    "with open('data/zeke_total_total_vocab.pkl', 'wb+') as file:\n",
    "    pickle.dump(total_total_vocab, file)"
   ]
  },
  {
   "cell_type": "code",
   "execution_count": null,
   "id": "e1f3f9c2-6393-4b03-8cd2-fb64dea8d15c",
   "metadata": {},
   "outputs": [],
   "source": []
  }
 ],
 "metadata": {
  "kernelspec": {
   "display_name": "Python [conda env:laptop_sketchbook] *",
   "language": "python",
   "name": "conda-env-laptop_sketchbook-py"
  },
  "language_info": {
   "codemirror_mode": {
    "name": "ipython",
    "version": 3
   },
   "file_extension": ".py",
   "mimetype": "text/x-python",
   "name": "python",
   "nbconvert_exporter": "python",
   "pygments_lexer": "ipython3",
   "version": "3.7.16"
  }
 },
 "nbformat": 4,
 "nbformat_minor": 5
}
