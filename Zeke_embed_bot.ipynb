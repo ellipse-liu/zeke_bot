{
 "cells": [
  {
   "cell_type": "code",
   "execution_count": 1,
   "id": "8b39a346-674f-434b-8cbf-25fea368f832",
   "metadata": {},
   "outputs": [],
   "source": [
    "from model import discord_chatbot_300\n",
    "import pickle\n",
    "from tensorflow.keras.preprocessing.sequence import pad_sequences\n",
    "import numpy as np"
   ]
  },
  {
   "cell_type": "code",
   "execution_count": 2,
   "id": "37168a94-b8e6-4d62-b7c4-ef9c364cb4b2",
   "metadata": {},
   "outputs": [],
   "source": [
    "with open('data/zeke_total_total_vocab.pkl', 'rb') as file:\n",
    "    total_total_vocab = pickle.load(file)\n",
    "    vocab_size = len(total_total_vocab)\n",
    "with open('data/zeke_filtered.pkl', 'rb') as file:\n",
    "    filtered = pickle.load(file)\n",
    "    \n",
    "e2i = dict((a,i) for i,a in enumerate(total_total_vocab, 1))\n",
    "i2e = dict((i,a) for i,a in enumerate(total_total_vocab, 1))\n",
    "untainted_dict = dict((a,i) for i,a in enumerate(total_total_vocab))\n",
    "\n",
    "sentences = []\n",
    "\n",
    "x_tr = []\n",
    "y_tr = []\n",
    "max_encoder_len = 0\n",
    "max_decoder_len = 0\n",
    "for pair in filtered:\n",
    "    x_tr += [[e2i[word] for word in pair[0]]]\n",
    "    y_tr += [[e2i[word] for word in pair[1]]]\n",
    "    sentences += [pair[0]]\n",
    "    sentences += [pair[1]]\n",
    "    \n",
    "for sentence in x_tr:\n",
    "    max_encoder_len = max(len(sentence),max_encoder_len)\n",
    "    \n",
    "for sentence in y_tr:\n",
    "    max_decoder_len = max(len(sentence),max_decoder_len)"
   ]
  },
  {
   "cell_type": "code",
   "execution_count": 3,
   "id": "4c03fefa-ce26-41b8-a6b1-f9e57e72d686",
   "metadata": {},
   "outputs": [],
   "source": [
    "zeke_bot = discord_chatbot_300(max_encoder_len, max_decoder_len, vocab_size, untainted_dict, sentences)"
   ]
  },
  {
   "cell_type": "code",
   "execution_count": 4,
   "id": "117eb52d-c4c6-4ef1-89ea-d7f1626d8e5c",
   "metadata": {},
   "outputs": [],
   "source": [
    "x_tr = pad_sequences(x_tr, maxlen=max_encoder_len, padding='post', value=0)\n",
    "y_tr = pad_sequences(y_tr, maxlen=max_decoder_len, padding='post', value=0)"
   ]
  },
  {
   "cell_type": "code",
   "execution_count": 5,
   "id": "d4d27f0d-ab84-485b-8cd5-c5e1b62179c6",
   "metadata": {},
   "outputs": [],
   "source": [
    "split_index = int(0.8 * len(x_tr))\n",
    "x_test = x_tr[split_index:]\n",
    "y_test = y_tr[split_index:]\n",
    "\n",
    "x_tr = x_tr[:split_index]\n",
    "y_tr = y_tr[:split_index]\n",
    "\n",
    "y_tr_in = np.array(y_tr)[:,:-1]\n",
    "y_tr_out = np.array(y_tr)[:,1:] \n",
    "y_test_in = np.array(y_test)[:, : -1]\n",
    "y_test_out = np.array(y_test)[:, 1:]"
   ]
  },
  {
   "cell_type": "code",
   "execution_count": 6,
   "id": "95a58d8f-98a9-4753-a6e9-1c1cc914a155",
   "metadata": {},
   "outputs": [
    {
     "name": "stdout",
     "output_type": "stream",
     "text": [
      "Epoch 1/70\n"
     ]
    },
    {
     "ename": "ResourceExhaustedError",
     "evalue": "Graph execution error:\n\nDetected at node 'sparse_categorical_crossentropy/clip_by_value/Minimum' defined at (most recent call last):\n    File \"C:\\Users\\Timothy\\anaconda3\\envs\\laptop_sketchbook\\lib\\runpy.py\", line 193, in _run_module_as_main\n      \"__main__\", mod_spec)\n    File \"C:\\Users\\Timothy\\anaconda3\\envs\\laptop_sketchbook\\lib\\runpy.py\", line 85, in _run_code\n      exec(code, run_globals)\n    File \"C:\\Users\\Timothy\\anaconda3\\envs\\laptop_sketchbook\\lib\\site-packages\\ipykernel_launcher.py\", line 17, in <module>\n      app.launch_new_instance()\n    File \"C:\\Users\\Timothy\\anaconda3\\envs\\laptop_sketchbook\\lib\\site-packages\\traitlets\\config\\application.py\", line 992, in launch_instance\n      app.start()\n    File \"C:\\Users\\Timothy\\anaconda3\\envs\\laptop_sketchbook\\lib\\site-packages\\ipykernel\\kernelapp.py\", line 712, in start\n      self.io_loop.start()\n    File \"C:\\Users\\Timothy\\anaconda3\\envs\\laptop_sketchbook\\lib\\site-packages\\tornado\\platform\\asyncio.py\", line 215, in start\n      self.asyncio_loop.run_forever()\n    File \"C:\\Users\\Timothy\\anaconda3\\envs\\laptop_sketchbook\\lib\\asyncio\\base_events.py\", line 541, in run_forever\n      self._run_once()\n    File \"C:\\Users\\Timothy\\anaconda3\\envs\\laptop_sketchbook\\lib\\asyncio\\base_events.py\", line 1786, in _run_once\n      handle._run()\n    File \"C:\\Users\\Timothy\\anaconda3\\envs\\laptop_sketchbook\\lib\\asyncio\\events.py\", line 88, in _run\n      self._context.run(self._callback, *self._args)\n    File \"C:\\Users\\Timothy\\anaconda3\\envs\\laptop_sketchbook\\lib\\site-packages\\ipykernel\\kernelbase.py\", line 510, in dispatch_queue\n      await self.process_one()\n    File \"C:\\Users\\Timothy\\anaconda3\\envs\\laptop_sketchbook\\lib\\site-packages\\ipykernel\\kernelbase.py\", line 499, in process_one\n      await dispatch(*args)\n    File \"C:\\Users\\Timothy\\anaconda3\\envs\\laptop_sketchbook\\lib\\site-packages\\ipykernel\\kernelbase.py\", line 406, in dispatch_shell\n      await result\n    File \"C:\\Users\\Timothy\\anaconda3\\envs\\laptop_sketchbook\\lib\\site-packages\\ipykernel\\kernelbase.py\", line 730, in execute_request\n      reply_content = await reply_content\n    File \"C:\\Users\\Timothy\\anaconda3\\envs\\laptop_sketchbook\\lib\\site-packages\\ipykernel\\ipkernel.py\", line 390, in do_execute\n      res = shell.run_cell(code, store_history=store_history, silent=silent)\n    File \"C:\\Users\\Timothy\\anaconda3\\envs\\laptop_sketchbook\\lib\\site-packages\\ipykernel\\zmqshell.py\", line 528, in run_cell\n      return super().run_cell(*args, **kwargs)\n    File \"C:\\Users\\Timothy\\anaconda3\\envs\\laptop_sketchbook\\lib\\site-packages\\IPython\\core\\interactiveshell.py\", line 2915, in run_cell\n      raw_cell, store_history, silent, shell_futures)\n    File \"C:\\Users\\Timothy\\anaconda3\\envs\\laptop_sketchbook\\lib\\site-packages\\IPython\\core\\interactiveshell.py\", line 2960, in _run_cell\n      return runner(coro)\n    File \"C:\\Users\\Timothy\\anaconda3\\envs\\laptop_sketchbook\\lib\\site-packages\\IPython\\core\\async_helpers.py\", line 78, in _pseudo_sync_runner\n      coro.send(None)\n    File \"C:\\Users\\Timothy\\anaconda3\\envs\\laptop_sketchbook\\lib\\site-packages\\IPython\\core\\interactiveshell.py\", line 3186, in run_cell_async\n      interactivity=interactivity, compiler=compiler, result=result)\n    File \"C:\\Users\\Timothy\\anaconda3\\envs\\laptop_sketchbook\\lib\\site-packages\\IPython\\core\\interactiveshell.py\", line 3377, in run_ast_nodes\n      if (await self.run_code(code, result,  async_=asy)):\n    File \"C:\\Users\\Timothy\\anaconda3\\envs\\laptop_sketchbook\\lib\\site-packages\\IPython\\core\\interactiveshell.py\", line 3457, in run_code\n      exec(code_obj, self.user_global_ns, self.user_ns)\n    File \"C:\\Users\\Timothy\\AppData\\Local\\Temp\\ipykernel_15100\\4036562039.py\", line 2, in <module>\n      zeke_bot.fit(x_tr, y_tr_in, y_tr_out, x_test, y_test_in, y_test_out, 70, 64)\n    File \"C:\\Users\\Timothy\\Desktop\\Zeke Chatbot\\Zeke-Embedded\\model.py\", line 78, in fit\n      self.training_model.fit([x_tr,y_tr_in], y_tr_out, epochs = ep, callbacks=Callbacks, batch_size = batch_size, validation_data=(([x_test,y_test_in]), y_test_out))\n    File \"C:\\Users\\Timothy\\anaconda3\\envs\\laptop_sketchbook\\lib\\site-packages\\keras\\utils\\traceback_utils.py\", line 65, in error_handler\n      return fn(*args, **kwargs)\n    File \"C:\\Users\\Timothy\\anaconda3\\envs\\laptop_sketchbook\\lib\\site-packages\\keras\\engine\\training.py\", line 1650, in fit\n      tmp_logs = self.train_function(iterator)\n    File \"C:\\Users\\Timothy\\anaconda3\\envs\\laptop_sketchbook\\lib\\site-packages\\keras\\engine\\training.py\", line 1249, in train_function\n      return step_function(self, iterator)\n    File \"C:\\Users\\Timothy\\anaconda3\\envs\\laptop_sketchbook\\lib\\site-packages\\keras\\engine\\training.py\", line 1233, in step_function\n      outputs = model.distribute_strategy.run(run_step, args=(data,))\n    File \"C:\\Users\\Timothy\\anaconda3\\envs\\laptop_sketchbook\\lib\\site-packages\\keras\\engine\\training.py\", line 1222, in run_step\n      outputs = model.train_step(data)\n    File \"C:\\Users\\Timothy\\anaconda3\\envs\\laptop_sketchbook\\lib\\site-packages\\keras\\engine\\training.py\", line 1024, in train_step\n      loss = self.compute_loss(x, y, y_pred, sample_weight)\n    File \"C:\\Users\\Timothy\\anaconda3\\envs\\laptop_sketchbook\\lib\\site-packages\\keras\\engine\\training.py\", line 1083, in compute_loss\n      y, y_pred, sample_weight, regularization_losses=self.losses\n    File \"C:\\Users\\Timothy\\anaconda3\\envs\\laptop_sketchbook\\lib\\site-packages\\keras\\engine\\compile_utils.py\", line 265, in __call__\n      loss_value = loss_obj(y_t, y_p, sample_weight=sw)\n    File \"C:\\Users\\Timothy\\anaconda3\\envs\\laptop_sketchbook\\lib\\site-packages\\keras\\losses.py\", line 152, in __call__\n      losses = call_fn(y_true, y_pred)\n    File \"C:\\Users\\Timothy\\anaconda3\\envs\\laptop_sketchbook\\lib\\site-packages\\keras\\losses.py\", line 284, in call\n      return ag_fn(y_true, y_pred, **self._fn_kwargs)\n    File \"C:\\Users\\Timothy\\anaconda3\\envs\\laptop_sketchbook\\lib\\site-packages\\keras\\losses.py\", line 2103, in sparse_categorical_crossentropy\n      axis=axis,\n    File \"C:\\Users\\Timothy\\anaconda3\\envs\\laptop_sketchbook\\lib\\site-packages\\keras\\backend.py\", line 5590, in sparse_categorical_crossentropy\n      output = tf.clip_by_value(output, epsilon_, 1 - epsilon_)\nNode: 'sparse_categorical_crossentropy/clip_by_value/Minimum'\nOOM when allocating tensor with shape[64,272,401880] and type float on /job:localhost/replica:0/task:0/device:CPU:0 by allocator cpu\n\t [[{{node sparse_categorical_crossentropy/clip_by_value/Minimum}}]]\nHint: If you want to see a list of allocated tensors when OOM happens, add report_tensor_allocations_upon_oom to RunOptions for current allocation info. This isn't available when running in Eager mode.\n [Op:__inference_train_function_14154]",
     "output_type": "error",
     "traceback": [
      "\u001b[1;31m---------------------------------------------------------------------------\u001b[0m",
      "\u001b[1;31mResourceExhaustedError\u001b[0m                    Traceback (most recent call last)",
      "\u001b[1;32m~\\AppData\\Local\\Temp\\ipykernel_15100\\4036562039.py\u001b[0m in \u001b[0;36m<module>\u001b[1;34m\u001b[0m\n\u001b[0;32m      1\u001b[0m \u001b[0mzeke_bot\u001b[0m\u001b[1;33m.\u001b[0m\u001b[0mcompile\u001b[0m\u001b[1;33m(\u001b[0m\u001b[1;33m)\u001b[0m\u001b[1;33m\u001b[0m\u001b[1;33m\u001b[0m\u001b[0m\n\u001b[1;32m----> 2\u001b[1;33m \u001b[0mzeke_bot\u001b[0m\u001b[1;33m.\u001b[0m\u001b[0mfit\u001b[0m\u001b[1;33m(\u001b[0m\u001b[0mx_tr\u001b[0m\u001b[1;33m,\u001b[0m \u001b[0my_tr_in\u001b[0m\u001b[1;33m,\u001b[0m \u001b[0my_tr_out\u001b[0m\u001b[1;33m,\u001b[0m \u001b[0mx_test\u001b[0m\u001b[1;33m,\u001b[0m \u001b[0my_test_in\u001b[0m\u001b[1;33m,\u001b[0m \u001b[0my_test_out\u001b[0m\u001b[1;33m,\u001b[0m \u001b[1;36m70\u001b[0m\u001b[1;33m,\u001b[0m \u001b[1;36m64\u001b[0m\u001b[1;33m)\u001b[0m\u001b[1;33m\u001b[0m\u001b[1;33m\u001b[0m\u001b[0m\n\u001b[0m",
      "\u001b[1;32m~\\Desktop\\Zeke Chatbot\\Zeke-Embedded\\model.py\u001b[0m in \u001b[0;36mfit\u001b[1;34m(self, x_tr, y_tr_in, y_tr_out, x_test, y_test_in, y_test_out, ep, batch_size)\u001b[0m\n\u001b[0;32m     76\u001b[0m         \u001b[0mck\u001b[0m \u001b[1;33m=\u001b[0m \u001b[0mModelCheckpoint\u001b[0m\u001b[1;33m(\u001b[0m\u001b[0mfilepath\u001b[0m\u001b[1;33m=\u001b[0m\u001b[1;34m'zeke_bot_best_weights.h5'\u001b[0m\u001b[1;33m,\u001b[0m \u001b[0mmonitor\u001b[0m\u001b[1;33m=\u001b[0m\u001b[1;34m'val_acc'\u001b[0m\u001b[1;33m,\u001b[0m \u001b[0mverbose\u001b[0m\u001b[1;33m=\u001b[0m\u001b[1;36m1\u001b[0m\u001b[1;33m,\u001b[0m \u001b[0msave_best_only\u001b[0m\u001b[1;33m=\u001b[0m\u001b[1;32mTrue\u001b[0m\u001b[1;33m,\u001b[0m \u001b[0mmode\u001b[0m\u001b[1;33m=\u001b[0m\u001b[1;34m'max'\u001b[0m\u001b[1;33m)\u001b[0m\u001b[1;33m\u001b[0m\u001b[1;33m\u001b[0m\u001b[0m\n\u001b[0;32m     77\u001b[0m         \u001b[0mCallbacks\u001b[0m \u001b[1;33m=\u001b[0m \u001b[1;33m[\u001b[0m\u001b[0mes\u001b[0m\u001b[1;33m,\u001b[0m \u001b[0mck\u001b[0m\u001b[1;33m]\u001b[0m\u001b[1;33m\u001b[0m\u001b[1;33m\u001b[0m\u001b[0m\n\u001b[1;32m---> 78\u001b[1;33m         \u001b[0mself\u001b[0m\u001b[1;33m.\u001b[0m\u001b[0mtraining_model\u001b[0m\u001b[1;33m.\u001b[0m\u001b[0mfit\u001b[0m\u001b[1;33m(\u001b[0m\u001b[1;33m[\u001b[0m\u001b[0mx_tr\u001b[0m\u001b[1;33m,\u001b[0m\u001b[0my_tr_in\u001b[0m\u001b[1;33m]\u001b[0m\u001b[1;33m,\u001b[0m \u001b[0my_tr_out\u001b[0m\u001b[1;33m,\u001b[0m \u001b[0mepochs\u001b[0m \u001b[1;33m=\u001b[0m \u001b[0mep\u001b[0m\u001b[1;33m,\u001b[0m \u001b[0mcallbacks\u001b[0m\u001b[1;33m=\u001b[0m\u001b[0mCallbacks\u001b[0m\u001b[1;33m,\u001b[0m \u001b[0mbatch_size\u001b[0m \u001b[1;33m=\u001b[0m \u001b[0mbatch_size\u001b[0m\u001b[1;33m,\u001b[0m \u001b[0mvalidation_data\u001b[0m\u001b[1;33m=\u001b[0m\u001b[1;33m(\u001b[0m\u001b[1;33m(\u001b[0m\u001b[1;33m[\u001b[0m\u001b[0mx_test\u001b[0m\u001b[1;33m,\u001b[0m\u001b[0my_test_in\u001b[0m\u001b[1;33m]\u001b[0m\u001b[1;33m)\u001b[0m\u001b[1;33m,\u001b[0m \u001b[0my_test_out\u001b[0m\u001b[1;33m)\u001b[0m\u001b[1;33m)\u001b[0m\u001b[1;33m\u001b[0m\u001b[1;33m\u001b[0m\u001b[0m\n\u001b[0m\u001b[0;32m     79\u001b[0m \u001b[1;33m\u001b[0m\u001b[0m\n\u001b[0;32m     80\u001b[0m     \u001b[1;32mdef\u001b[0m \u001b[0mbuild_inference_model\u001b[0m\u001b[1;33m(\u001b[0m\u001b[0mself\u001b[0m\u001b[1;33m)\u001b[0m\u001b[1;33m:\u001b[0m\u001b[1;33m\u001b[0m\u001b[1;33m\u001b[0m\u001b[0m\n",
      "\u001b[1;32m~\\anaconda3\\envs\\laptop_sketchbook\\lib\\site-packages\\keras\\utils\\traceback_utils.py\u001b[0m in \u001b[0;36merror_handler\u001b[1;34m(*args, **kwargs)\u001b[0m\n\u001b[0;32m     68\u001b[0m             \u001b[1;31m# To get the full stack trace, call:\u001b[0m\u001b[1;33m\u001b[0m\u001b[1;33m\u001b[0m\u001b[1;33m\u001b[0m\u001b[0m\n\u001b[0;32m     69\u001b[0m             \u001b[1;31m# `tf.debugging.disable_traceback_filtering()`\u001b[0m\u001b[1;33m\u001b[0m\u001b[1;33m\u001b[0m\u001b[1;33m\u001b[0m\u001b[0m\n\u001b[1;32m---> 70\u001b[1;33m             \u001b[1;32mraise\u001b[0m \u001b[0me\u001b[0m\u001b[1;33m.\u001b[0m\u001b[0mwith_traceback\u001b[0m\u001b[1;33m(\u001b[0m\u001b[0mfiltered_tb\u001b[0m\u001b[1;33m)\u001b[0m \u001b[1;32mfrom\u001b[0m \u001b[1;32mNone\u001b[0m\u001b[1;33m\u001b[0m\u001b[1;33m\u001b[0m\u001b[0m\n\u001b[0m\u001b[0;32m     71\u001b[0m         \u001b[1;32mfinally\u001b[0m\u001b[1;33m:\u001b[0m\u001b[1;33m\u001b[0m\u001b[1;33m\u001b[0m\u001b[0m\n\u001b[0;32m     72\u001b[0m             \u001b[1;32mdel\u001b[0m \u001b[0mfiltered_tb\u001b[0m\u001b[1;33m\u001b[0m\u001b[1;33m\u001b[0m\u001b[0m\n",
      "\u001b[1;32m~\\anaconda3\\envs\\laptop_sketchbook\\lib\\site-packages\\tensorflow\\python\\eager\\execute.py\u001b[0m in \u001b[0;36mquick_execute\u001b[1;34m(op_name, num_outputs, inputs, attrs, ctx, name)\u001b[0m\n\u001b[0;32m     51\u001b[0m     \u001b[0mctx\u001b[0m\u001b[1;33m.\u001b[0m\u001b[0mensure_initialized\u001b[0m\u001b[1;33m(\u001b[0m\u001b[1;33m)\u001b[0m\u001b[1;33m\u001b[0m\u001b[1;33m\u001b[0m\u001b[0m\n\u001b[0;32m     52\u001b[0m     tensors = pywrap_tfe.TFE_Py_Execute(ctx._handle, device_name, op_name,\n\u001b[1;32m---> 53\u001b[1;33m                                         inputs, attrs, num_outputs)\n\u001b[0m\u001b[0;32m     54\u001b[0m   \u001b[1;32mexcept\u001b[0m \u001b[0mcore\u001b[0m\u001b[1;33m.\u001b[0m\u001b[0m_NotOkStatusException\u001b[0m \u001b[1;32mas\u001b[0m \u001b[0me\u001b[0m\u001b[1;33m:\u001b[0m\u001b[1;33m\u001b[0m\u001b[1;33m\u001b[0m\u001b[0m\n\u001b[0;32m     55\u001b[0m     \u001b[1;32mif\u001b[0m \u001b[0mname\u001b[0m \u001b[1;32mis\u001b[0m \u001b[1;32mnot\u001b[0m \u001b[1;32mNone\u001b[0m\u001b[1;33m:\u001b[0m\u001b[1;33m\u001b[0m\u001b[1;33m\u001b[0m\u001b[0m\n",
      "\u001b[1;31mResourceExhaustedError\u001b[0m: Graph execution error:\n\nDetected at node 'sparse_categorical_crossentropy/clip_by_value/Minimum' defined at (most recent call last):\n    File \"C:\\Users\\Timothy\\anaconda3\\envs\\laptop_sketchbook\\lib\\runpy.py\", line 193, in _run_module_as_main\n      \"__main__\", mod_spec)\n    File \"C:\\Users\\Timothy\\anaconda3\\envs\\laptop_sketchbook\\lib\\runpy.py\", line 85, in _run_code\n      exec(code, run_globals)\n    File \"C:\\Users\\Timothy\\anaconda3\\envs\\laptop_sketchbook\\lib\\site-packages\\ipykernel_launcher.py\", line 17, in <module>\n      app.launch_new_instance()\n    File \"C:\\Users\\Timothy\\anaconda3\\envs\\laptop_sketchbook\\lib\\site-packages\\traitlets\\config\\application.py\", line 992, in launch_instance\n      app.start()\n    File \"C:\\Users\\Timothy\\anaconda3\\envs\\laptop_sketchbook\\lib\\site-packages\\ipykernel\\kernelapp.py\", line 712, in start\n      self.io_loop.start()\n    File \"C:\\Users\\Timothy\\anaconda3\\envs\\laptop_sketchbook\\lib\\site-packages\\tornado\\platform\\asyncio.py\", line 215, in start\n      self.asyncio_loop.run_forever()\n    File \"C:\\Users\\Timothy\\anaconda3\\envs\\laptop_sketchbook\\lib\\asyncio\\base_events.py\", line 541, in run_forever\n      self._run_once()\n    File \"C:\\Users\\Timothy\\anaconda3\\envs\\laptop_sketchbook\\lib\\asyncio\\base_events.py\", line 1786, in _run_once\n      handle._run()\n    File \"C:\\Users\\Timothy\\anaconda3\\envs\\laptop_sketchbook\\lib\\asyncio\\events.py\", line 88, in _run\n      self._context.run(self._callback, *self._args)\n    File \"C:\\Users\\Timothy\\anaconda3\\envs\\laptop_sketchbook\\lib\\site-packages\\ipykernel\\kernelbase.py\", line 510, in dispatch_queue\n      await self.process_one()\n    File \"C:\\Users\\Timothy\\anaconda3\\envs\\laptop_sketchbook\\lib\\site-packages\\ipykernel\\kernelbase.py\", line 499, in process_one\n      await dispatch(*args)\n    File \"C:\\Users\\Timothy\\anaconda3\\envs\\laptop_sketchbook\\lib\\site-packages\\ipykernel\\kernelbase.py\", line 406, in dispatch_shell\n      await result\n    File \"C:\\Users\\Timothy\\anaconda3\\envs\\laptop_sketchbook\\lib\\site-packages\\ipykernel\\kernelbase.py\", line 730, in execute_request\n      reply_content = await reply_content\n    File \"C:\\Users\\Timothy\\anaconda3\\envs\\laptop_sketchbook\\lib\\site-packages\\ipykernel\\ipkernel.py\", line 390, in do_execute\n      res = shell.run_cell(code, store_history=store_history, silent=silent)\n    File \"C:\\Users\\Timothy\\anaconda3\\envs\\laptop_sketchbook\\lib\\site-packages\\ipykernel\\zmqshell.py\", line 528, in run_cell\n      return super().run_cell(*args, **kwargs)\n    File \"C:\\Users\\Timothy\\anaconda3\\envs\\laptop_sketchbook\\lib\\site-packages\\IPython\\core\\interactiveshell.py\", line 2915, in run_cell\n      raw_cell, store_history, silent, shell_futures)\n    File \"C:\\Users\\Timothy\\anaconda3\\envs\\laptop_sketchbook\\lib\\site-packages\\IPython\\core\\interactiveshell.py\", line 2960, in _run_cell\n      return runner(coro)\n    File \"C:\\Users\\Timothy\\anaconda3\\envs\\laptop_sketchbook\\lib\\site-packages\\IPython\\core\\async_helpers.py\", line 78, in _pseudo_sync_runner\n      coro.send(None)\n    File \"C:\\Users\\Timothy\\anaconda3\\envs\\laptop_sketchbook\\lib\\site-packages\\IPython\\core\\interactiveshell.py\", line 3186, in run_cell_async\n      interactivity=interactivity, compiler=compiler, result=result)\n    File \"C:\\Users\\Timothy\\anaconda3\\envs\\laptop_sketchbook\\lib\\site-packages\\IPython\\core\\interactiveshell.py\", line 3377, in run_ast_nodes\n      if (await self.run_code(code, result,  async_=asy)):\n    File \"C:\\Users\\Timothy\\anaconda3\\envs\\laptop_sketchbook\\lib\\site-packages\\IPython\\core\\interactiveshell.py\", line 3457, in run_code\n      exec(code_obj, self.user_global_ns, self.user_ns)\n    File \"C:\\Users\\Timothy\\AppData\\Local\\Temp\\ipykernel_15100\\4036562039.py\", line 2, in <module>\n      zeke_bot.fit(x_tr, y_tr_in, y_tr_out, x_test, y_test_in, y_test_out, 70, 64)\n    File \"C:\\Users\\Timothy\\Desktop\\Zeke Chatbot\\Zeke-Embedded\\model.py\", line 78, in fit\n      self.training_model.fit([x_tr,y_tr_in], y_tr_out, epochs = ep, callbacks=Callbacks, batch_size = batch_size, validation_data=(([x_test,y_test_in]), y_test_out))\n    File \"C:\\Users\\Timothy\\anaconda3\\envs\\laptop_sketchbook\\lib\\site-packages\\keras\\utils\\traceback_utils.py\", line 65, in error_handler\n      return fn(*args, **kwargs)\n    File \"C:\\Users\\Timothy\\anaconda3\\envs\\laptop_sketchbook\\lib\\site-packages\\keras\\engine\\training.py\", line 1650, in fit\n      tmp_logs = self.train_function(iterator)\n    File \"C:\\Users\\Timothy\\anaconda3\\envs\\laptop_sketchbook\\lib\\site-packages\\keras\\engine\\training.py\", line 1249, in train_function\n      return step_function(self, iterator)\n    File \"C:\\Users\\Timothy\\anaconda3\\envs\\laptop_sketchbook\\lib\\site-packages\\keras\\engine\\training.py\", line 1233, in step_function\n      outputs = model.distribute_strategy.run(run_step, args=(data,))\n    File \"C:\\Users\\Timothy\\anaconda3\\envs\\laptop_sketchbook\\lib\\site-packages\\keras\\engine\\training.py\", line 1222, in run_step\n      outputs = model.train_step(data)\n    File \"C:\\Users\\Timothy\\anaconda3\\envs\\laptop_sketchbook\\lib\\site-packages\\keras\\engine\\training.py\", line 1024, in train_step\n      loss = self.compute_loss(x, y, y_pred, sample_weight)\n    File \"C:\\Users\\Timothy\\anaconda3\\envs\\laptop_sketchbook\\lib\\site-packages\\keras\\engine\\training.py\", line 1083, in compute_loss\n      y, y_pred, sample_weight, regularization_losses=self.losses\n    File \"C:\\Users\\Timothy\\anaconda3\\envs\\laptop_sketchbook\\lib\\site-packages\\keras\\engine\\compile_utils.py\", line 265, in __call__\n      loss_value = loss_obj(y_t, y_p, sample_weight=sw)\n    File \"C:\\Users\\Timothy\\anaconda3\\envs\\laptop_sketchbook\\lib\\site-packages\\keras\\losses.py\", line 152, in __call__\n      losses = call_fn(y_true, y_pred)\n    File \"C:\\Users\\Timothy\\anaconda3\\envs\\laptop_sketchbook\\lib\\site-packages\\keras\\losses.py\", line 284, in call\n      return ag_fn(y_true, y_pred, **self._fn_kwargs)\n    File \"C:\\Users\\Timothy\\anaconda3\\envs\\laptop_sketchbook\\lib\\site-packages\\keras\\losses.py\", line 2103, in sparse_categorical_crossentropy\n      axis=axis,\n    File \"C:\\Users\\Timothy\\anaconda3\\envs\\laptop_sketchbook\\lib\\site-packages\\keras\\backend.py\", line 5590, in sparse_categorical_crossentropy\n      output = tf.clip_by_value(output, epsilon_, 1 - epsilon_)\nNode: 'sparse_categorical_crossentropy/clip_by_value/Minimum'\nOOM when allocating tensor with shape[64,272,401880] and type float on /job:localhost/replica:0/task:0/device:CPU:0 by allocator cpu\n\t [[{{node sparse_categorical_crossentropy/clip_by_value/Minimum}}]]\nHint: If you want to see a list of allocated tensors when OOM happens, add report_tensor_allocations_upon_oom to RunOptions for current allocation info. This isn't available when running in Eager mode.\n [Op:__inference_train_function_14154]"
     ]
    }
   ],
   "source": [
    "zeke_bot.compile()\n",
    "zeke_bot.fit(x_tr, y_tr_in, y_tr_out, x_test, y_test_in, y_test_out, 70, 64)"
   ]
  },
  {
   "cell_type": "code",
   "execution_count": null,
   "id": "c3191695-b9d6-4b51-b6cb-228ac006142c",
   "metadata": {},
   "outputs": [],
   "source": []
  }
 ],
 "metadata": {
  "kernelspec": {
   "display_name": "Python [conda env:laptop_sketchbook] *",
   "language": "python",
   "name": "conda-env-laptop_sketchbook-py"
  },
  "language_info": {
   "codemirror_mode": {
    "name": "ipython",
    "version": 3
   },
   "file_extension": ".py",
   "mimetype": "text/x-python",
   "name": "python",
   "nbconvert_exporter": "python",
   "pygments_lexer": "ipython3",
   "version": "3.7.16"
  }
 },
 "nbformat": 4,
 "nbformat_minor": 5
}
